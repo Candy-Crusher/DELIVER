{
 "cells": [
  {
   "cell_type": "code",
   "execution_count": 2,
   "metadata": {},
   "outputs": [],
   "source": [
    "import numpy as np\n",
    "from PIL import Image\n",
    "import os\n",
    "\n",
    "def id2rgb(id_map, palette):\n",
    "    rgb_pred = palette_array[id_map]\n",
    "    rgb_pred = Image.fromarray(rgb_pred.astype(np.uint8))\n",
    "    return rgb_pred\n",
    "palette= dict(\n",
    "            {0: [0, 0, 0], 1: [70, 70, 70], 2: [190, 153, 153], 3: [220, 20, 60], 4: [153, 153, 153],\n",
    "            5: [128, 64, 128], 6: [244, 35, 232], 7: [107, 142, 35], 8: [0, 0, 142], 9: [102, 102, 156],\n",
    "            10: [220, 220, 0], 11: [55, 90, 80], 12: [157, 234, 50]}\n",
    "            )\n",
    "palette_array = np.zeros((256, 3), dtype=np.uint8)\n",
    "for key, value in palette.items():\n",
    "    palette_array[int(key)] = value\n",
    "\n"
   ]
  },
  {
   "cell_type": "code",
   "execution_count": null,
   "metadata": {},
   "outputs": [
    {
     "name": "stdout",
     "output_type": "stream",
     "text": [
      "save 000099_t4.png\n",
      "save 000095_t3.png\n",
      "save 000092_t2.png\n",
      "save 000091_t3.png\n",
      "save 000097_t3.png\n",
      "save 000091_t5.png\n",
      "save 000095_t1.png\n",
      "save 000095_t4.png\n",
      "save 000096_t5.png\n",
      "save 000096_t4.png\n",
      "save 000091_t4.png\n",
      "save 000097_t2.png\n",
      "save 000094_t5.png\n",
      "save 000097_t5.png\n",
      "save 000091_t2.png\n",
      "save 000096_t1.png\n",
      "save 000096_t2.png\n",
      "save 000096_t3.png\n",
      "save 000094_t2.png\n",
      "save 000093_t4.png\n",
      "save 000092_t1.png\n",
      "save 000093_t1.png\n",
      "save 000098_t2.png\n",
      "save 000099_t3.png\n",
      "save 000098_t3.png\n",
      "save 000099_t5.png\n",
      "save 000097_t1.png\n",
      "save 000091_t1.png\n",
      "save 000092_t3.png\n",
      "save 000092_t4.png\n",
      "save 000095_t2.png\n",
      "save 000098_t5.png\n",
      "save 000099_t1.png\n",
      "save 000095_t5.png\n",
      "save 000097_t4.png\n",
      "save 000093_t5.png\n",
      "save 000094_t3.png\n",
      "save 000092_t5.png\n",
      "save 000094_t1.png\n",
      "save 000093_t3.png\n",
      "save 000098_t4.png\n",
      "save 000093_t2.png\n",
      "save 000094_t4.png\n",
      "save 000099_t2.png\n",
      "save 000098_t1.png\n"
     ]
    }
   ],
   "source": [
    "# id_map path\n",
    "id_map_dir = '/mnt/sdc/lxy/datasets/DSEC/DSEC/dsec_anytime_100/viz_05a/seg_id_results'\n",
    "save_dir = '/mnt/sdc/lxy/datasets/DSEC/DSEC/dsec_anytime_100/viz_05a/seg_rgb_results'\n",
    "if not os.path.exists(save_dir):\n",
    "    os.makedirs(save_dir)\n",
    "for id_map_path in os.listdir(id_map_dir):\n",
    "    id_map = Image.open(os.path.join(id_map_dir, id_map_path))\n",
    "    id_map = np.array(id_map)\n",
    "    rgb_pred = id2rgb(id_map, palette_array)\n",
    "    rgb_pred.save(os.path.join(save_dir, id_map_path))\n",
    "    # print('save {}'.format(id_map_path))"
   ]
  },
  {
   "cell_type": "code",
   "execution_count": null,
   "metadata": {},
   "outputs": [],
   "source": []
  }
 ],
 "metadata": {
  "kernelspec": {
   "display_name": "cmnext",
   "language": "python",
   "name": "python3"
  },
  "language_info": {
   "codemirror_mode": {
    "name": "ipython",
    "version": 3
   },
   "file_extension": ".py",
   "mimetype": "text/x-python",
   "name": "python",
   "nbconvert_exporter": "python",
   "pygments_lexer": "ipython3",
   "version": "3.8.12"
  }
 },
 "nbformat": 4,
 "nbformat_minor": 2
}
