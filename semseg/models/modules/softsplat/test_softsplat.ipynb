{
 "cells": [
  {
   "cell_type": "code",
   "execution_count": 7,
   "metadata": {},
   "outputs": [
    {
     "name": "stdout",
     "output_type": "stream",
     "text": [
      "MoviePy - Building file ./out.gif with imageio.\n"
     ]
    },
    {
     "name": "stderr",
     "output_type": "stream",
     "text": [
      "                                                            \r"
     ]
    }
   ],
   "source": [
    "import numpy as np\n",
    "import torch\n",
    "import softsplat\n",
    "import moviepy.editor\n",
    "import cv2\n",
    "\n",
    "def _flow_16bit_to_float(flow_16bit: np.ndarray):\n",
    "    assert flow_16bit.dtype == np.uint16, flow_16bit.dtype\n",
    "    assert flow_16bit.ndim == 3\n",
    "    h, w, c = flow_16bit.shape\n",
    "    assert c == 3\n",
    "    # BGR 转 RGB\n",
    "    flow_16bit = flow_16bit[..., ::-1]\n",
    "\n",
    "    valid2D = flow_16bit[..., 2] == 1\n",
    "    assert valid2D.shape == (h, w)\n",
    "\n",
    "    assert np.all(flow_16bit[~valid2D, -1] == 0)\n",
    "    valid_map = np.where(valid2D)\n",
    "    flow_16bit = flow_16bit.astype('float32')\n",
    "    flow_map = np.zeros((h, w, 2), dtype='float32')\n",
    "    flow_map[valid_map[0], valid_map[1], 0] = (flow_16bit[valid_map[0], valid_map[1], 0] - 2 ** 15) / 128\n",
    "    flow_map[valid_map[0], valid_map[1], 1] = (flow_16bit[valid_map[0], valid_map[1], 1] - 2 ** 15) / 128\n",
    "    return flow_map, valid2D\n",
    "##########################################################\n",
    "\n",
    "def read_flo(strFile):\n",
    "    flow_16bit = cv2.imread(str(strFile), cv2.IMREAD_ANYDEPTH | cv2.IMREAD_ANYCOLOR)\n",
    "    strFlow, valid2D = _flow_16bit_to_float(flow_16bit)\n",
    "    # assert(np.frombuffer(buffer=strFlow, dtype=np.float32, count=1, offset=0) == 202021.25)\n",
    "\n",
    "    # intWidth = np.frombuffer(buffer=strFlow, dtype=np.int32, count=1, offset=4)[0]\n",
    "    # intHeight = np.frombuffer(buffer=strFlow, dtype=np.int32, count=1, offset=8)[0]\n",
    "\n",
    "    # return np.frombuffer(buffer=strFlow, dtype=np.float32, count=intHeight * intWidth * 2, offset=12).reshape(intHeight, intWidth, 2)\n",
    "    return strFlow\n",
    "# end\n",
    "\n",
    "##########################################################\n",
    "\n",
    "backwarp_tenGrid = {}\n",
    "\n",
    "def backwarp(tenIn, tenFlow):\n",
    "    if str(tenFlow.shape) not in backwarp_tenGrid:\n",
    "        tenHor = torch.linspace(start=-1.0, end=1.0, steps=tenFlow.shape[3], dtype=tenFlow.dtype, device=tenFlow.device).view(1, 1, 1, -1).repeat(1, 1, tenFlow.shape[2], 1)\n",
    "        tenVer = torch.linspace(start=-1.0, end=1.0, steps=tenFlow.shape[2], dtype=tenFlow.dtype, device=tenFlow.device).view(1, 1, -1, 1).repeat(1, 1, 1, tenFlow.shape[3])\n",
    "\n",
    "        backwarp_tenGrid[str(tenFlow.shape)] = torch.cat([tenHor, tenVer], 1).cuda()\n",
    "    # end\n",
    "\n",
    "    tenFlow = torch.cat([tenFlow[:, 0:1, :, :] / ((tenIn.shape[3] - 1.0) / 2.0), tenFlow[:, 1:2, :, :] / ((tenIn.shape[2] - 1.0) / 2.0)], 1)\n",
    "\n",
    "    return torch.nn.functional.grid_sample(input=tenIn, grid=(backwarp_tenGrid[str(tenFlow.shape)] + tenFlow).permute(0, 2, 3, 1), mode='bilinear', padding_mode='zeros', align_corners=True)\n",
    "# end\n",
    "\n",
    "##########################################################\n",
    "\n",
    "filename_first = '/home/xiaoshan/work/adap_v/my_proj/DSEC_remapped_images/train/zurich_city_01_a/images/left/distorted/000134.png'\n",
    "filename_second = '/home/xiaoshan/work/adap_v/my_proj/DSEC_remapped_images/train/zurich_city_01_a/images/left/distorted/000135.png'\n",
    "filename_flow = '/home/xiaoshan/work/adap_v/my_proj/DSEC/train/zurich_city_01_a/flow/forward/000134.png'\n",
    "\n",
    "# 1 3 H W\n",
    "tenFirst = torch.FloatTensor(np.ascontiguousarray(cv2.imread(filename=filename_first, flags=-1).transpose(2, 0, 1)[None, :, :, :].astype(np.float32) * (1.0 / 255.0))).cuda()\n",
    "tenSecond = torch.FloatTensor(np.ascontiguousarray(cv2.imread(filename=filename_second, flags=-1).transpose(2, 0, 1)[None, :, :, :].astype(np.float32) * (1.0 / 255.0))).cuda()\n",
    "\n",
    "# 1 2 H W\n",
    "tenFlow = torch.FloatTensor(np.ascontiguousarray(read_flo(filename_flow).transpose(2, 0, 1)[None, :, :, :])).cuda()\n",
    "# 1 1 H W\n",
    "tenMetric_L1 = torch.nn.functional.l1_loss(input=tenFirst, target=backwarp(tenIn=tenSecond, tenFlow=tenFlow), reduction='none').mean(1, True)\n",
    "tenMetric_flow_mag = torch.sqrt(torch.square(tenFlow[:, 0, :, :] + tenFlow[:, 1, :, :])).unsqueeze(1)\n",
    "\n",
    "tenOutputs_L1 = [softsplat.softsplat(tenIn=tenFirst, tenFlow=tenFlow * fltTime, tenMetric=-20.0 * tenMetric_L1, strMode='soft') for fltTime in np.linspace(0.0, 1.0, 11).tolist()]\n",
    "npyOutputs_L1 = [(tenOutput_L1[0, :, :, :].cpu().numpy().transpose(1, 2, 0) * 255.0).clip(0.0, 255.0).astype(np.uint8) for tenOutput_L1 in tenOutputs_L1 + list(reversed(tenOutputs_L1[1:-1]))]\n",
    "\n",
    "tenOutputs_flow_mag = [softsplat.softsplat(tenIn=tenFirst, tenFlow=tenFlow * fltTime, tenMetric=-tenMetric_flow_mag, strMode='soft') for fltTime in np.linspace(0.0, 1.0, 11).tolist()]\n",
    "npyOutputs_flow_mag = [(tenOutput_flow_mag[0, :, :, :].cpu().numpy().transpose(1, 2, 0) * 255.0).clip(0.0, 255.0).astype(np.uint8) for tenOutput_flow_mag in tenOutputs_flow_mag + list(reversed(tenOutputs_flow_mag[1:-1]))]\n",
    "# 两个video 串行展示\n",
    "preds = [np.concatenate([npyOutputs_L1[i][:, :, ::-1], npyOutputs_flow_mag[i][:, :, ::-1]], axis=1) for i in range(len(npyOutputs_L1))]\n",
    "video = moviepy.editor.ImageSequenceClip(sequence=preds, fps=15)\n",
    "video.write_gif('./out.gif')\n",
    "# end\n",
    "\n"
   ]
  },
  {
   "cell_type": "code",
   "execution_count": null,
   "metadata": {},
   "outputs": [],
   "source": []
  }
 ],
 "metadata": {
  "kernelspec": {
   "display_name": "cmnext",
   "language": "python",
   "name": "python3"
  },
  "language_info": {
   "codemirror_mode": {
    "name": "ipython",
    "version": 3
   },
   "file_extension": ".py",
   "mimetype": "text/x-python",
   "name": "python",
   "nbconvert_exporter": "python",
   "pygments_lexer": "ipython3",
   "version": "3.8.12"
  }
 },
 "nbformat": 4,
 "nbformat_minor": 2
}
